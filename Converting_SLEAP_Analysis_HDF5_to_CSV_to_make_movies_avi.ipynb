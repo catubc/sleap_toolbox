{
 "cells": [
  {
   "cell_type": "markdown",
   "metadata": {
    "id": "js-Lmh27GJcY"
   },
   "source": [
    "First, we'll upload a HDF5 file that was generated from within the SLEAP GUI. This can be created by opening a tracked project file (`.slp`) and going to **File** -> **Export Analysis HDF5...**\n",
    "\n",
    "Note that you can also upload the file by navigating the sidebar on the left side of the page in Colab."
   ]
  },
  {
   "cell_type": "code",
   "execution_count": 55,
   "metadata": {
    "colab": {
     "base_uri": "https://localhost:8080/",
     "height": 91,
     "resources": {
      "http://localhost:8080/nbextensions/google.colab/files.js": {
       "data": "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",
       "headers": [
        [
         "content-type",
         "application/javascript"
        ]
       ],
       "ok": true,
       "status": 200,
       "status_text": ""
      }
     }
    },
    "id": "LQyhNZcMFmER",
    "outputId": "b43e8f11-b022-4b62-fd4d-ab5bcf323061"
   },
   "outputs": [
    {
     "data": {
      "application/javascript": [
       "IPython.notebook.set_autosave_interval(180000)"
      ]
     },
     "metadata": {},
     "output_type": "display_data"
    },
    {
     "name": "stdout",
     "output_type": "stream",
     "text": [
      "Autosaving every 180 seconds\n"
     ]
    },
    {
     "data": {
      "text/html": [
       "<style>.container { width:100% !important; }</style>"
      ],
      "text/plain": [
       "<IPython.core.display.HTML object>"
      ]
     },
     "metadata": {},
     "output_type": "display_data"
    }
   ],
   "source": [
    "import matplotlib\n",
    "#matplotlib.use('Agg')\n",
    "%matplotlib tk\n",
    "%autosave 180\n",
    "import matplotlib.pyplot as plt\n",
    "from IPython.core.display import display, HTML\n",
    "display(HTML(\"<style>.container { width:100% !important; }</style>\"))\n",
    "\n",
    "import matplotlib.cm as cm\n",
    "from matplotlib import gridspec\n",
    "from scipy import signal\n",
    "\n",
    "import numpy as np\n",
    "import pandas as pd\n",
    "import os\n",
    "import shutil\n",
    "import cv2\n",
    "from tqdm import trange\n",
    "\n",
    "#import glob2\n",
    "\n",
    "from numba import jit\n",
    "from scipy.io import loadmat\n",
    "import scipy\n",
    "import h5py\n",
    "#import hdf5storage\n",
    "import csv\n",
    "\n",
    "from scipy.sparse import csr_matrix\n",
    "from scipy.sparse.csgraph import connected_components\n",
    "\n"
   ]
  },
  {
   "cell_type": "markdown",
   "metadata": {
    "id": "hxY9g9OqHWk5"
   },
   "source": [
    "Once you have the file uploaded, let's open it, load its contents and inspect the data."
   ]
  },
  {
   "cell_type": "code",
   "execution_count": 2,
   "metadata": {
    "colab": {
     "base_uri": "https://localhost:8080/",
     "height": 104
    },
    "id": "afPrA1dCE_EZ",
    "outputId": "b7e6dd6e-a974-435b-f7f2-41cd18a0c340"
   },
   "outputs": [
    {
     "name": "stdout",
     "output_type": "stream",
     "text": [
      "Keys in the HDF5 file: ['node_names', 'track_names', 'track_occupancy', 'tracks']\n",
      "node_names: ['nose', 'lefteye', 'righteye', 'leftear', 'rightear', 'spine1', 'spine2', 'spine3', 'spine4', 'spine5', 'tail1', 'tail2', 'tail3', 'tail4']\n",
      "track_names: ['track_0', 'track_1', 'track_2', 'track_3', 'track_4', 'track_5', 'track_6', 'track_7', 'track_8', 'track_9', 'track_10', 'track_11', 'track_12', 'track_13', 'track_14', 'track_15', 'track_16', 'track_17', 'track_18', 'track_19', 'track_20', 'track_21', 'track_22', 'track_23', 'track_24', 'track_25', 'track_26', 'track_27', 'track_28', 'track_29', 'track_30', 'track_31', 'track_32', 'track_33', 'track_34', 'track_35', 'track_36', 'track_37', 'track_38', 'track_39', 'track_40', 'track_41', 'track_42', 'track_43', 'track_44', 'track_45', 'track_46', 'track_47', 'track_48', 'track_49', 'track_50', 'track_51', 'track_52', 'track_53', 'track_54', 'track_55', 'track_56', 'track_57', 'track_58', 'track_59', 'track_60', 'track_61', 'track_62', 'track_63', 'track_64', 'track_65', 'track_66', 'track_67', 'track_68', 'track_69', 'track_70', 'track_71', 'track_72', 'track_73', 'track_74', 'track_75', 'track_76', 'track_77', 'track_78', 'track_79', 'track_80', 'track_81', 'track_82', 'track_83', 'track_84', 'track_85', 'track_86', 'track_87', 'track_88', 'track_89', 'track_90', 'track_91', 'track_92', 'track_93', 'track_94', 'track_95', 'track_96', 'track_97', 'track_98', 'track_99', 'track_100', 'track_101', 'track_102', 'track_103', 'track_104', 'track_105', 'track_106', 'track_107', 'track_108', 'track_109', 'track_110', 'track_111', 'track_112', 'track_113', 'track_114', 'track_115', 'track_116', 'track_117', 'track_118', 'track_119', 'track_120', 'track_121', 'track_122', 'track_123', 'track_124', 'track_125', 'track_126', 'track_127', 'track_128', 'track_129', 'track_130', 'track_131', 'track_132', 'track_133', 'track_134', 'track_135', 'track_136', 'track_137', 'track_138', 'track_139', 'track_140', 'track_141', 'track_142', 'track_143', 'track_144', 'track_145', 'track_146', 'track_147', 'track_148', 'track_149', 'track_150', 'track_151', 'track_152', 'track_153', 'track_154', 'track_155', 'track_156', 'track_157', 'track_158', 'track_159', 'track_160', 'track_161', 'track_162', 'track_163', 'track_164', 'track_165', 'track_166', 'track_167', 'track_168', 'track_169', 'track_170', 'track_171', 'track_172', 'track_173', 'track_174', 'track_175', 'track_176', 'track_177', 'track_178', 'track_179', 'track_180', 'track_181', 'track_182', 'track_183', 'track_184', 'track_185', 'track_186', 'track_187', 'track_188', 'track_189', 'track_190', 'track_191', 'track_192', 'track_193', 'track_194', 'track_195', 'track_196', 'track_197', 'track_198', 'track_199', 'track_200', 'track_201', 'track_202', 'track_203', 'track_204', 'track_205', 'track_206', 'track_207', 'track_208', 'track_209', 'track_210', 'track_211', 'track_212', 'track_213', 'track_214', 'track_215', 'track_216', 'track_217', 'track_218', 'track_219', 'track_220', 'track_221', 'track_222', 'track_223', 'track_224', 'track_225', 'track_226', 'track_227', 'track_228', 'track_229', 'track_230', 'track_231', 'track_232', 'track_233', 'track_234', 'track_235', 'track_236', 'track_237', 'track_238', 'track_239', 'track_240', 'track_241', 'track_242', 'track_243', 'track_244', 'track_245', 'track_246', 'track_247', 'track_248', 'track_249', 'track_250', 'track_251', 'track_252', 'track_253', 'track_254', 'track_255', 'track_256', 'track_257', 'track_258', 'track_259', 'track_260', 'track_261', 'track_262', 'track_263', 'track_264', 'track_265', 'track_266', 'track_267', 'track_268', 'track_269', 'track_270', 'track_271', 'track_272', 'track_273', 'track_274', 'track_275', 'track_276', 'track_277', 'track_278', 'track_279', 'track_280', 'track_281', 'track_282', 'track_283', 'track_284', 'track_285', 'track_286', 'track_287', 'track_288', 'track_289', 'track_290', 'track_291', 'track_292', 'track_293', 'track_294', 'track_295', 'track_296', 'track_297', 'track_298', 'track_299', 'track_300', 'track_301', 'track_302', 'track_303', 'track_304', 'track_305', 'track_306', 'track_307', 'track_308', 'track_309', 'track_310', 'track_311', 'track_312', 'track_313', 'track_314', 'track_315', 'track_316', 'track_317', 'track_318', 'track_319', 'track_320', 'track_321', 'track_322', 'track_323', 'track_324', 'track_325', 'track_326', 'track_327', 'track_328', 'track_329', 'track_330', 'track_331', 'track_332', 'track_333', 'track_334', 'track_335', 'track_336', 'track_337', 'track_338', 'track_339', 'track_340', 'track_341', 'track_342', 'track_343', 'track_344', 'track_345', 'track_346', 'track_347', 'track_348', 'track_349', 'track_350', 'track_351', 'track_352', 'track_353', 'track_354', 'track_355', 'track_356', 'track_357', 'track_358', 'track_359', 'track_360', 'track_361', 'track_362', 'track_363', 'track_364', 'track_365', 'track_366', 'track_367', 'track_368', 'track_369', 'track_370', 'track_371', 'track_372', 'track_373', 'track_374', 'track_375', 'track_376', 'track_377', 'track_378', 'track_379', 'track_380', 'track_381', 'track_382', 'track_383', 'track_384', 'track_385', 'track_386', 'track_387', 'track_388', 'track_389', 'track_390', 'track_391', 'track_392', 'track_393', 'track_394', 'track_395', 'track_396', 'track_397', 'track_398', 'track_399', 'track_400', 'track_401', 'track_402', 'track_403', 'track_404', 'track_405', 'track_406', 'track_407', 'track_408', 'track_409', 'track_410', 'track_411', 'track_412', 'track_413', 'track_414', 'track_415', 'track_416', 'track_417', 'track_418', 'track_419', 'track_420', 'track_421', 'track_422', 'track_423', 'track_424', 'track_425', 'track_426', 'track_427', 'track_428', 'track_429', 'track_430', 'track_431', 'track_432', 'track_433', 'track_434', 'track_435', 'track_436', 'track_437', 'track_438', 'track_439', 'track_440', 'track_441', 'track_442', 'track_443', 'track_444', 'track_445', 'track_446', 'track_447', 'track_448', 'track_449', 'track_450', 'track_451', 'track_452', 'track_453', 'track_454', 'track_455', 'track_456', 'track_457', 'track_458', 'track_459', 'track_460', 'track_461', 'track_462', 'track_463', 'track_464', 'track_465', 'track_466', 'track_467', 'track_468', 'track_469', 'track_470', 'track_471', 'track_472', 'track_473', 'track_474', 'track_475', 'track_476', 'track_477', 'track_478', 'track_479', 'track_480', 'track_481', 'track_482', 'track_483', 'track_484', 'track_485', 'track_486', 'track_487', 'track_488', 'track_489', 'track_490', 'track_491', 'track_492', 'track_493', 'track_494', 'track_495', 'track_496', 'track_497', 'track_498', 'track_499', 'track_500', 'track_501', 'track_502', 'track_503', 'track_504', 'track_505', 'track_506', 'track_507', 'track_508', 'track_509', 'track_510', 'track_511', 'track_512', 'track_513', 'track_514', 'track_515', 'track_516', 'track_517', 'track_518', 'track_519', 'track_520', 'track_521', 'track_522', 'track_523', 'track_524', 'track_525', 'track_526', 'track_527', 'track_528', 'track_529', 'track_530', 'track_531', 'track_532', 'track_533', 'track_534', 'track_535', 'track_536', 'track_537', 'track_538', 'track_539', 'track_540', 'track_541', 'track_542', 'track_543', 'track_544', 'track_545', 'track_546', 'track_547', 'track_548', 'track_549', 'track_550', 'track_551', 'track_552', 'track_553', 'track_554', 'track_555', 'track_556', 'track_557', 'track_558', 'track_559', 'track_560', 'track_561', 'track_562', 'track_563', 'track_564', 'track_565', 'track_566', 'track_567', 'track_568', 'track_569', 'track_570', 'track_571', 'track_572', 'track_573', 'track_574', 'track_575', 'track_576', 'track_577', 'track_578', 'track_579', 'track_580', 'track_581', 'track_582', 'track_583', 'track_584', 'track_585', 'track_586', 'track_587', 'track_588', 'track_589', 'track_590', 'track_591', 'track_592', 'track_593', 'track_594', 'track_595', 'track_596', 'track_597', 'track_598', 'track_599', 'track_600', 'track_601', 'track_602', 'track_603', 'track_604', 'track_605', 'track_606', 'track_607', 'track_608', 'track_609', 'track_610', 'track_611', 'track_612', 'track_613', 'track_614', 'track_615', 'track_616', 'track_617', 'track_618', 'track_619', 'track_620', 'track_621', 'track_622', 'track_623', 'track_624', 'track_625', 'track_626', 'track_627', 'track_628', 'track_629', 'track_630', 'track_631', 'track_632', 'track_633', 'track_634', 'track_635', 'track_636', 'track_637', 'track_638', 'track_639', 'track_640', 'track_641', 'track_642', 'track_643', 'track_644', 'track_645', 'track_646', 'track_647', 'track_648', 'track_649', 'track_650', 'track_651', 'track_652', 'track_653', 'track_654', 'track_655', 'track_656', 'track_657', 'track_658', 'track_659', 'track_660', 'track_661', 'track_662', 'track_663', 'track_664', 'track_665', 'track_666', 'track_667', 'track_668', 'track_669', 'track_670', 'track_671', 'track_672', 'track_673', 'track_674', 'track_675', 'track_676', 'track_677', 'track_678', 'track_679', 'track_680', 'track_681', 'track_682', 'track_683', 'track_684', 'track_685', 'track_686', 'track_687', 'track_688', 'track_689', 'track_690', 'track_691', 'track_692', 'track_693', 'track_694', 'track_695', 'track_696', 'track_697', 'track_698', 'track_699', 'track_700', 'track_701', 'track_702', 'track_703', 'track_704', 'track_705', 'track_706', 'track_707', 'track_708', 'track_709', 'track_710', 'track_711', 'track_712', 'track_713', 'track_714', 'track_715', 'track_716', 'track_717', 'track_718', 'track_719', 'track_720', 'track_721', 'track_722', 'track_723', 'track_724', 'track_725', 'track_726', 'track_727', 'track_728', 'track_729', 'track_730', 'track_731', 'track_732', 'track_733', 'track_734', 'track_735', 'track_736', 'track_737', 'track_738', 'track_739', 'track_740', 'track_741', 'track_742', 'track_743', 'track_744', 'track_745', 'track_746', 'track_747', 'track_748', 'track_749', 'track_750', 'track_751', 'track_752', 'track_753', 'track_754', 'track_755', 'track_756', 'track_757', 'track_758', 'track_759', 'track_760', 'track_761', 'track_762', 'track_763', 'track_764', 'track_765', 'track_766', 'track_767', 'track_768', 'track_769', 'track_770', 'track_771', 'track_772', 'track_773', 'track_774', 'track_775', 'track_776', 'track_777', 'track_778', 'track_779', 'track_780', 'track_781', 'track_782', 'track_783', 'track_784', 'track_785', 'track_786', 'track_787', 'track_788', 'track_789', 'track_790', 'track_791', 'track_792', 'track_793', 'track_794', 'track_795', 'track_796', 'track_797', 'track_798', 'track_799', 'track_800', 'track_801', 'track_802', 'track_803', 'track_804', 'track_805', 'track_806', 'track_807', 'track_808', 'track_809', 'track_810', 'track_811', 'track_812', 'track_813', 'track_814', 'track_815', 'track_816', 'track_817', 'track_818', 'track_819', 'track_820', 'track_821', 'track_822', 'track_823', 'track_824', 'track_825', 'track_826', 'track_827', 'track_828', 'track_829', 'track_830', 'track_831', 'track_832', 'track_833', 'track_834', 'track_835', 'track_836', 'track_837', 'track_838', 'track_839', 'track_840', 'track_841', 'track_842', 'track_843', 'track_844', 'track_845', 'track_846', 'track_847', 'track_848', 'track_849', 'track_850', 'track_851', 'track_852', 'track_853', 'track_854', 'track_855', 'track_856', 'track_857', 'track_858', 'track_859', 'track_860', 'track_861', 'track_862', 'track_863', 'track_864', 'track_865', 'track_866', 'track_867', 'track_868', 'track_869', 'track_870', 'track_871', 'track_872', 'track_873', 'track_874', 'track_875', 'track_876', 'track_877', 'track_878', 'track_879', 'track_880', 'track_881', 'track_882', 'track_883', 'track_884', 'track_885', 'track_886', 'track_887', 'track_888', 'track_889', 'track_890', 'track_891', 'track_892', 'track_893', 'track_894', 'track_895', 'track_896', 'track_897', 'track_898', 'track_899', 'track_900', 'track_901', 'track_902', 'track_903', 'track_904', 'track_905', 'track_906', 'track_907', 'track_908', 'track_909', 'track_910', 'track_911', 'track_912', 'track_913', 'track_914', 'track_915', 'track_916', 'track_917', 'track_918', 'track_919', 'track_920', 'track_921', 'track_922', 'track_923', 'track_924', 'track_925', 'track_926', 'track_927', 'track_928', 'track_929', 'track_930', 'track_931', 'track_932', 'track_933', 'track_934', 'track_935', 'track_936', 'track_937', 'track_938', 'track_939', 'track_940', 'track_941', 'track_942', 'track_943', 'track_944', 'track_945', 'track_946', 'track_947', 'track_948', 'track_949', 'track_950', 'track_951', 'track_952', 'track_953', 'track_954', 'track_955', 'track_956', 'track_957', 'track_958', 'track_959', 'track_960', 'track_961', 'track_962', 'track_963', 'track_964', 'track_965', 'track_966', 'track_967', 'track_968', 'track_969', 'track_970', 'track_971', 'track_972', 'track_973', 'track_974', 'track_975', 'track_976', 'track_977', 'track_978', 'track_979', 'track_980', 'track_981', 'track_982', 'track_983', 'track_984', 'track_985', 'track_986', 'track_987', 'track_988', 'track_989', 'track_990', 'track_991', 'track_992', 'track_993', 'track_994', 'track_995', 'track_996', 'track_997', 'track_998', 'track_999', 'track_1000', 'track_1001', 'track_1002', 'track_1003', 'track_1004', 'track_1005', 'track_1006', 'track_1007', 'track_1008', 'track_1009', 'track_1010', 'track_1011', 'track_1012', 'track_1013', 'track_1014', 'track_1015', 'track_1016', 'track_1017', 'track_1018', 'track_1019', 'track_1020', 'track_1021', 'track_1022', 'track_1023', 'track_1024', 'track_1025', 'track_1026', 'track_1027', 'track_1028', 'track_1029', 'track_1030', 'track_1031', 'track_1032', 'track_1033', 'track_1034', 'track_1035', 'track_1036', 'track_1037', 'track_1038', 'track_1039', 'track_1040', 'track_1041', 'track_1042', 'track_1043', 'track_1044', 'track_1045', 'track_1046', 'track_1047', 'track_1048', 'track_1049', 'track_1050', 'track_1051', 'track_1052', 'track_1053', 'track_1054', 'track_1055', 'track_1056', 'track_1057', 'track_1058', 'track_1059', 'track_1060', 'track_1061', 'track_1062', 'track_1063', 'track_1064', 'track_1065', 'track_1066', 'track_1067', 'track_1068', 'track_1069', 'track_1070', 'track_1071', 'track_1072', 'track_1073', 'track_1074', 'track_1075', 'track_1076', 'track_1077', 'track_1078', 'track_1079', 'track_1080', 'track_1081', 'track_1082', 'track_1083', 'track_1084', 'track_1085', 'track_1086', 'track_1087', 'track_1088', 'track_1089', 'track_1090', 'track_1091', 'track_1092', 'track_1093', 'track_1094', 'track_1095', 'track_1096', 'track_1097', 'track_1098', 'track_1099', 'track_1100', 'track_1101', 'track_1102', 'track_1103', 'track_1104', 'track_1105', 'track_1106', 'track_1107', 'track_1108', 'track_1109', 'track_1110', 'track_1111', 'track_1112', 'track_1113', 'track_1114', 'track_1115', 'track_1116', 'track_1117', 'track_1118', 'track_1119', 'track_1120', 'track_1121', 'track_1122', 'track_1123', 'track_1124', 'track_1125', 'track_1126', 'track_1127', 'track_1128', 'track_1129', 'track_1130', 'track_1131', 'track_1132', 'track_1133', 'track_1134', 'track_1135', 'track_1136', 'track_1137', 'track_1138', 'track_1139', 'track_1140', 'track_1141', 'track_1142', 'track_1143', 'track_1144', 'track_1145', 'track_1146', 'track_1147', 'track_1148', 'track_1149', 'track_1150', 'track_1151', 'track_1152', 'track_1153', 'track_1154', 'track_1155', 'track_1156', 'track_1157', 'track_1158', 'track_1159', 'track_1160', 'track_1161', 'track_1162', 'track_1163', 'track_1164', 'track_1165', 'track_1166', 'track_1167', 'track_1168', 'track_1169', 'track_1170', 'track_1171', 'track_1172', 'track_1173', 'track_1174', 'track_1175', 'track_1176', 'track_1177', 'track_1178', 'track_1179', 'track_1180', 'track_1181', 'track_1182', 'track_1183', 'track_1184', 'track_1185', 'track_1186', 'track_1187', 'track_1188', 'track_1189', 'track_1190', 'track_1191', 'track_1192', 'track_1193', 'track_1194', 'track_1195', 'track_1196', 'track_1197', 'track_1198', 'track_1199', 'track_1200', 'track_1201', 'track_1202', 'track_1203', 'track_1204', 'track_1205', 'track_1206', 'track_1207', 'track_1208', 'track_1209', 'track_1210', 'track_1211', 'track_1212', 'track_1213', 'track_1214', 'track_1215', 'track_1216', 'track_1217', 'track_1218', 'track_1219', 'track_1220', 'track_1221', 'track_1222', 'track_1223', 'track_1224', 'track_1225', 'track_1226', 'track_1227', 'track_1228', 'track_1229', 'track_1230', 'track_1231', 'track_1232', 'track_1233', 'track_1234', 'track_1235', 'track_1236', 'track_1237', 'track_1238', 'track_1239', 'track_1240', 'track_1241', 'track_1242', 'track_1243', 'track_1244', 'track_1245', 'track_1246', 'track_1247', 'track_1248', 'track_1249', 'track_1250', 'track_1251', 'track_1252', 'track_1253', 'track_1254', 'track_1255', 'track_1256', 'track_1257', 'track_1258', 'track_1259', 'track_1260', 'track_1261', 'track_1262', 'track_1263', 'track_1264', 'track_1265', 'track_1266', 'track_1267', 'track_1268', 'track_1269', 'track_1270', 'track_1271', 'track_1272', 'track_1273', 'track_1274', 'track_1275', 'track_1276', 'track_1277', 'track_1278', 'track_1279', 'track_1280', 'track_1281', 'track_1282', 'track_1283', 'track_1284', 'track_1285', 'track_1286', 'track_1287', 'track_1288', 'track_1289', 'track_1290', 'track_1291', 'track_1292', 'track_1293', 'track_1294', 'track_1295', 'track_1296', 'track_1297', 'track_1298', 'track_1299', 'track_1300', 'track_1301', 'track_1302', 'track_1303', 'track_1304', 'track_1305', 'track_1306', 'track_1307', 'track_1308', 'track_1309', 'track_1310', 'track_1311', 'track_1312', 'track_1313', 'track_1314', 'track_1315', 'track_1316', 'track_1317', 'track_1318', 'track_1319', 'track_1320', 'track_1321', 'track_1322', 'track_1323', 'track_1324', 'track_1325', 'track_1326', 'track_1327', 'track_1328', 'track_1329', 'track_1330', 'track_1331', 'track_1332', 'track_1333', 'track_1334', 'track_1335', 'track_1336', 'track_1337', 'track_1338', 'track_1339', 'track_1340', 'track_1341', 'track_1342', 'track_1343', 'track_1344', 'track_1345', 'track_1346', 'track_1347', 'track_1348', 'track_1349', 'track_1350', 'track_1351', 'track_1352', 'track_1353', 'track_1354', 'track_1355', 'track_1356', 'track_1357', 'track_1358', 'track_1359', 'track_1360', 'track_1361', 'track_1362', 'track_1363', 'track_1364', 'track_1365', 'track_1366', 'track_1367', 'track_1368', 'track_1369', 'track_1370', 'track_1371', 'track_1372', 'track_1373', 'track_1374', 'track_1375', 'track_1376', 'track_1377', 'track_1378', 'track_1379', 'track_1380', 'track_1381', 'track_1382', 'track_1383', 'track_1384', 'track_1385', 'track_1386', 'track_1387', 'track_1388', 'track_1389', 'track_1390', 'track_1391', 'track_1392', 'track_1393', 'track_1394', 'track_1395', 'track_1396', 'track_1397', 'track_1398', 'track_1399', 'track_1400', 'track_1401', 'track_1402', 'track_1403', 'track_1404', 'track_1405', 'track_1406', 'track_1407', 'track_1408', 'track_1409', 'track_1410', 'track_1411', 'track_1412', 'track_1413', 'track_1414', 'track_1415', 'track_1416', 'track_1417', 'track_1418', 'track_1419', 'track_1420', 'track_1421', 'track_1422', 'track_1423', 'track_1424', 'track_1425', 'track_1426', 'track_1427', 'track_1428', 'track_1429', 'track_1430', 'track_1431', 'track_1432', 'track_1433', 'track_1434', 'track_1435', 'track_1436', 'track_1437', 'track_1438', 'track_1439', 'track_1440', 'track_1441', 'track_1442', 'track_1443', 'track_1444', 'track_1445', 'track_1446', 'track_1447', 'track_1448', 'track_1449', 'track_1450', 'track_1451', 'track_1452', 'track_1453', 'track_1454', 'track_1455', 'track_1456', 'track_1457', 'track_1458', 'track_1459', 'track_1460', 'track_1461', 'track_1462', 'track_1463', 'track_1464', 'track_1465', 'track_1466', 'track_1467', 'track_1468', 'track_1469', 'track_1470', 'track_1471', 'track_1472', 'track_1473', 'track_1474', 'track_1475', 'track_1476', 'track_1477', 'track_1478', 'track_1479', 'track_1480', 'track_1481', 'track_1482', 'track_1483', 'track_1484', 'track_1485', 'track_1486', 'track_1487', 'track_1488', 'track_1489', 'track_1490', 'track_1491', 'track_1492', 'track_1493', 'track_1494', 'track_1495', 'track_1496', 'track_1497', 'track_1498', 'track_1499', 'track_1500', 'track_1501', 'track_1502', 'track_1503', 'track_1504', 'track_1505', 'track_1506', 'track_1507', 'track_1508', 'track_1509', 'track_1510', 'track_1511', 'track_1512', 'track_1513', 'track_1514', 'track_1515', 'track_1516', 'track_1517', 'track_1518', 'track_1519', 'track_1520', 'track_1521', 'track_1522', 'track_1523', 'track_1524', 'track_1525', 'track_1526', 'track_1527', 'track_1528', 'track_1529', 'track_1530', 'track_1531', 'track_1532', 'track_1533', 'track_1534', 'track_1535', 'track_1536', 'track_1537', 'track_1538', 'track_1539', 'track_1540', 'track_1541', 'track_1542', 'track_1543', 'track_1544', 'track_1545', 'track_1546', 'track_1547', 'track_1548', 'track_1549', 'track_1550', 'track_1551', 'track_1552', 'track_1553', 'track_1554', 'track_1555', 'track_1556', 'track_1557', 'track_1558', 'track_1559', 'track_1560', 'track_1561', 'track_1562', 'track_1563', 'track_1564', 'track_1565', 'track_1566', 'track_1567', 'track_1568', 'track_1569', 'track_1570', 'track_1571', 'track_1572', 'track_1573', 'track_1574', 'track_1575', 'track_1576', 'track_1577', 'track_1578', 'track_1579', 'track_1580', 'track_1581', 'track_1582', 'track_1583', 'track_1584', 'track_1585', 'track_1586', 'track_1587', 'track_1588', 'track_1589', 'track_1590', 'track_1591', 'track_1592', 'track_1593', 'track_1594', 'track_1595', 'track_1596', 'track_1597', 'track_1598', 'track_1599', 'track_1600', 'track_1601', 'track_1602', 'track_1603', 'track_1604', 'track_1605', 'track_1606', 'track_1607', 'track_1608', 'track_1609', 'track_1610', 'track_1611', 'track_1612', 'track_1613', 'track_1614', 'track_1615', 'track_1616', 'track_1617', 'track_1618', 'track_1619', 'track_1620', 'track_1621', 'track_1622', 'track_1623', 'track_1624', 'track_1625', 'track_1626', 'track_1627', 'track_1628', 'track_1629', 'track_1630', 'track_1631', 'track_1632', 'track_1633', 'track_1634', 'track_1635', 'track_1636', 'track_1637', 'track_1638', 'track_1639', 'track_1640', 'track_1641', 'track_1642', 'track_1643', 'track_1644', 'track_1645', 'track_1646', 'track_1647', 'track_1648', 'track_1649', 'track_1650', 'track_1651', 'track_1652', 'track_1653', 'track_1654', 'track_1655', 'track_1656', 'track_1657', 'track_1658', 'track_1659', 'track_1660', 'track_1661', 'track_1662', 'track_1663', 'track_1664', 'track_1665', 'track_1666', 'track_1667', 'track_1668', 'track_1669', 'track_1670', 'track_1671', 'track_1672', 'track_1673', 'track_1674', 'track_1675', 'track_1676', 'track_1677', 'track_1678', 'track_1679', 'track_1680', 'track_1681', 'track_1682', 'track_1683', 'track_1684', 'track_1685', 'track_1686', 'track_1687', 'track_1688', 'track_1689', 'track_1690', 'track_1691', 'track_1692', 'track_1693', 'track_1694', 'track_1695', 'track_1696', 'track_1697', 'track_1698', 'track_1699', 'track_1700', 'track_1701', 'track_1702', 'track_1703', 'track_1704', 'track_1705', 'track_1706', 'track_1707', 'track_1708', 'track_1709', 'track_1710', 'track_1711', 'track_1712', 'track_1713', 'track_1714', 'track_1715', 'track_1716', 'track_1717', 'track_1718', 'track_1719', 'track_1720', 'track_1721', 'track_1722', 'track_1723', 'track_1724', 'track_1725', 'track_1726', 'track_1727', 'track_1728', 'track_1729', 'track_1730', 'track_1731', 'track_1732', 'track_1733', 'track_1734', 'track_1735', 'track_1736', 'track_1737', 'track_1738', 'track_1739', 'track_1740', 'track_1741', 'track_1742', 'track_1743', 'track_1744', 'track_1745', 'track_1746', 'track_1747', 'track_1748', 'track_1749', 'track_1750', 'track_1751', 'track_1752', 'track_1753', 'track_1754', 'track_1755', 'track_1756', 'track_1757', 'track_1758', 'track_1759', 'track_1760', 'track_1761', 'track_1762', 'track_1763', 'track_1764', 'track_1765', 'track_1766', 'track_1767', 'track_1768', 'track_1769', 'track_1770', 'track_1771', 'track_1772', 'track_1773', 'track_1774', 'track_1775', 'track_1776', 'track_1777', 'track_1778', 'track_1779', 'track_1780', 'track_1781', 'track_1782', 'track_1783', 'track_1784', 'track_1785', 'track_1786', 'track_1787', 'track_1788', 'track_1789', 'track_1790', 'track_1791', 'track_1792', 'track_1793', 'track_1794', 'track_1795', 'track_1796', 'track_1797', 'track_1798', 'track_1799', 'track_1800', 'track_1801', 'track_1802', 'track_1803', 'track_1804', 'track_1805', 'track_1806', 'track_1807', 'track_1808', 'track_1809', 'track_1810', 'track_1811', 'track_1812', 'track_1813', 'track_1814', 'track_1815', 'track_1816', 'track_1817', 'track_1818', 'track_1819', 'track_1820', 'track_1821', 'track_1822', 'track_1823', 'track_1824', 'track_1825', 'track_1826', 'track_1827', 'track_1828', 'track_1829', 'track_1830', 'track_1831', 'track_1832', 'track_1833', 'track_1834', 'track_1835', 'track_1836', 'track_1837', 'track_1838', 'track_1839', 'track_1840', 'track_1841', 'track_1842', 'track_1843', 'track_1844', 'track_1845', 'track_1846', 'track_1847', 'track_1848', 'track_1849', 'track_1850', 'track_1851', 'track_1852', 'track_1853', 'track_1854', 'track_1855', 'track_1856', 'track_1857', 'track_1858', 'track_1859', 'track_1860', 'track_1861', 'track_1862', 'track_1863', 'track_1864', 'track_1865', 'track_1866', 'track_1867', 'track_1868', 'track_1869', 'track_1870', 'track_1871', 'track_1872', 'track_1873', 'track_1874', 'track_1875', 'track_1876', 'track_1877', 'track_1878', 'track_1879', 'track_1880', 'track_1881', 'track_1882', 'track_1883', 'track_1884', 'track_1885', 'track_1886', 'track_1887', 'track_1888', 'track_1889', 'track_1890', 'track_1891', 'track_1892', 'track_1893', 'track_1894', 'track_1895', 'track_1896', 'track_1897', 'track_1898', 'track_1899', 'track_1900', 'track_1901', 'track_1902', 'track_1903', 'track_1904', 'track_1905', 'track_1906', 'track_1907', 'track_1908', 'track_1909', 'track_1910', 'track_1911', 'track_1912', 'track_1913', 'track_1914', 'track_1915', 'track_1916', 'track_1917', 'track_1918', 'track_1919', 'track_1920', 'track_1921', 'track_1922', 'track_1923', 'track_1924', 'track_1925', 'track_1926', 'track_1927', 'track_1928', 'track_1929', 'track_1930', 'track_1931', 'track_1932', 'track_1933', 'track_1934', 'track_1935', 'track_1936', 'track_1937', 'track_1938', 'track_1939', 'track_1940', 'track_1941', 'track_1942', 'track_1943', 'track_1944', 'track_1945', 'track_1946', 'track_1947', 'track_1948', 'track_1949', 'track_1950', 'track_1951', 'track_1952', 'track_1953', 'track_1954', 'track_1955', 'track_1956', 'track_1957', 'track_1958', 'track_1959', 'track_1960', 'track_1961', 'track_1962', 'track_1963', 'track_1964', 'track_1965', 'track_1966', 'track_1967', 'track_1968', 'track_1969', 'track_1970', 'track_1971', 'track_1972', 'track_1973', 'track_1974', 'track_1975', 'track_1976', 'track_1977', 'track_1978', 'track_1979', 'track_1980', 'track_1981', 'track_1982', 'track_1983', 'track_1984', 'track_1985', 'track_1986', 'track_1987', 'track_1988', 'track_1989', 'track_1990', 'track_1991', 'track_1992', 'track_1993', 'track_1994', 'track_1995', 'track_1996', 'track_1997', 'track_1998', 'track_1999', 'track_2000', 'track_2001', 'track_2002', 'track_2003', 'track_2004', 'track_2005', 'track_2006', 'track_2007', 'track_2008', 'track_2009', 'track_2010', 'track_2011', 'track_2012', 'track_2013', 'track_2014', 'track_2015', 'track_2016', 'track_2017', 'track_2018', 'track_2019', 'track_2020', 'track_2021', 'track_2022', 'track_2023', 'track_2024', 'track_2025', 'track_2026', 'track_2027', 'track_2028', 'track_2029', 'track_2030', 'track_2031', 'track_2032', 'track_2033', 'track_2034', 'track_2035', 'track_2036', 'track_2037', 'track_2038', 'track_2039', 'track_2040', 'track_2041', 'track_2042', 'track_2043', 'track_2044', 'track_2045', 'track_2046', 'track_2047', 'track_2048', 'track_2049', 'track_2050', 'track_2051', 'track_2052', 'track_2053', 'track_2054', 'track_2055', 'track_2056', 'track_2057', 'track_2058', 'track_2059', 'track_2060', 'track_2061', 'track_2062', 'track_2063', 'track_2064', 'track_2065', 'track_2066', 'track_2067', 'track_2068', 'track_2069', 'track_2070', 'track_2071', 'track_2072', 'track_2073', 'track_2074', 'track_2075', 'track_2076', 'track_2077', 'track_2078', 'track_2079', 'track_2080', 'track_2081', 'track_2082', 'track_2083', 'track_2084', 'track_2085', 'track_2086', 'track_2087', 'track_2088', 'track_2089', 'track_2090', 'track_2091', 'track_2092', 'track_2093', 'track_2094', 'track_2095', 'track_2096', 'track_2097', 'track_2098', 'track_2099', 'track_2100', 'track_2101', 'track_2102', 'track_2103', 'track_2104', 'track_2105', 'track_2106', 'track_2107', 'track_2108', 'track_2109', 'track_2110', 'track_2111', 'track_2112', 'track_2113', 'track_2114', 'track_2115', 'track_2116', 'track_2117', 'track_2118', 'track_2119', 'track_2120', 'track_2121', 'track_2122', 'track_2123', 'track_2124', 'track_2125', 'track_2126', 'track_2127', 'track_2128', 'track_2129', 'track_2130', 'track_2131', 'track_2132', 'track_2133', 'track_2134', 'track_2135', 'track_2136', 'track_2137', 'track_2138', 'track_2139', 'track_2140', 'track_2141', 'track_2142', 'track_2143', 'track_2144', 'track_2145', 'track_2146', 'track_2147', 'track_2148', 'track_2149', 'track_2150', 'track_2151', 'track_2152', 'track_2153', 'track_2154', 'track_2155', 'track_2156', 'track_2157', 'track_2158', 'track_2159', 'track_2160', 'track_2161', 'track_2162', 'track_2163', 'track_2164', 'track_2165', 'track_2166', 'track_2167', 'track_2168', 'track_2169', 'track_2170', 'track_2171', 'track_2172', 'track_2173', 'track_2174', 'track_2175', 'track_2176', 'track_2177', 'track_2178', 'track_2179', 'track_2180', 'track_2181', 'track_2182', 'track_2183', 'track_2184', 'track_2185', 'track_2186', 'track_2187', 'track_2188', 'track_2189', 'track_2190', 'track_2191', 'track_2192', 'track_2193', 'track_2194', 'track_2195', 'track_2196', 'track_2197', 'track_2198', 'track_2199', 'track_2200', 'track_2201', 'track_2202', 'track_2203', 'track_2204', 'track_2205', 'track_2206', 'track_2207', 'track_2208', 'track_2209', 'track_2210', 'track_2211', 'track_2212', 'track_2213', 'track_2214', 'track_2215', 'track_2216', 'track_2217', 'track_2218', 'track_2219', 'track_2220', 'track_2221', 'track_2222', 'track_2223', 'track_2224', 'track_2225', 'track_2226', 'track_2227', 'track_2228', 'track_2229', 'track_2230', 'track_2231', 'track_2232', 'track_2233', 'track_2234', 'track_2235', 'track_2236', 'track_2237', 'track_2238', 'track_2239', 'track_2240', 'track_2241', 'track_2242', 'track_2243', 'track_2244', 'track_2245', 'track_2246', 'track_2247', 'track_2248', 'track_2249', 'track_2250', 'track_2251', 'track_2252', 'track_2253', 'track_2254', 'track_2255', 'track_2256', 'track_2257', 'track_2258', 'track_2259', 'track_2260', 'track_2261', 'track_2262', 'track_2263', 'track_2264', 'track_2265', 'track_2266', 'track_2267', 'track_2268', 'track_2269', 'track_2270', 'track_2271', 'track_2272', 'track_2273', 'track_2274', 'track_2275', 'track_2276', 'track_2277', 'track_2278', 'track_2279', 'track_2280', 'track_2281', 'track_2282', 'track_2283', 'track_2284', 'track_2285', 'track_2286', 'track_2287', 'track_2288', 'track_2289', 'track_2290', 'track_2291', 'track_2292', 'track_2293', 'track_2294', 'track_2295', 'track_2296', 'track_2297', 'track_2298', 'track_2299', 'track_2300', 'track_2301', 'track_2302', 'track_2303', 'track_2304', 'track_2305', 'track_2306', 'track_2307', 'track_2308', 'track_2309', 'track_2310', 'track_2311', 'track_2312', 'track_2313', 'track_2314', 'track_2315', 'track_2316', 'track_2317', 'track_2318', 'track_2319', 'track_2320', 'track_2321', 'track_2322', 'track_2323', 'track_2324', 'track_2325', 'track_2326', 'track_2327', 'track_2328', 'track_2329', 'track_2330', 'track_2331', 'track_2332', 'track_2333', 'track_2334', 'track_2335', 'track_2336', 'track_2337', 'track_2338', 'track_2339', 'track_2340', 'track_2341', 'track_2342', 'track_2343', 'track_2344', 'track_2345', 'track_2346', 'track_2347', 'track_2348', 'track_2349', 'track_2350', 'track_2351', 'track_2352', 'track_2353', 'track_2354', 'track_2355', 'track_2356', 'track_2357', 'track_2358', 'track_2359', 'track_2360', 'track_2361', 'track_2362', 'track_2363', 'track_2364', 'track_2365', 'track_2366', 'track_2367', 'track_2368', 'track_2369', 'track_2370', 'track_2371', 'track_2372', 'track_2373', 'track_2374', 'track_2375', 'track_2376', 'track_2377', 'track_2378', 'track_2379', 'track_2380', 'track_2381', 'track_2382', 'track_2383', 'track_2384', 'track_2385', 'track_2386', 'track_2387', 'track_2388', 'track_2389', 'track_2390', 'track_2391', 'track_2392', 'track_2393', 'track_2394', 'track_2395', 'track_2396', 'track_2397', 'track_2398', 'track_2399', 'track_2400', 'track_2401', 'track_2402', 'track_2403', 'track_2404', 'track_2405', 'track_2406', 'track_2407', 'track_2408', 'track_2409', 'track_2410', 'track_2411', 'track_2412', 'track_2413', 'track_2414', 'track_2415', 'track_2416', 'track_2417', 'track_2418', 'track_2419', 'track_2420', 'track_2421', 'track_2422', 'track_2423', 'track_2424', 'track_2425', 'track_2426', 'track_2427', 'track_2428', 'track_2429', 'track_2430', 'track_2431', 'track_2432', 'track_2433', 'track_2434', 'track_2435', 'track_2436', 'track_2437', 'track_2438', 'track_2439', 'track_2440', 'track_2441', 'track_2442', 'track_2443', 'track_2444', 'track_2445', 'track_2446', 'track_2447', 'track_2448', 'track_2449', 'track_2450', 'track_2451', 'track_2452', 'track_2453', 'track_2454', 'track_2455', 'track_2456', 'track_2457', 'track_2458', 'track_2459', 'track_2460', 'track_2461', 'track_2462', 'track_2463', 'track_2464', 'track_2465', 'track_2466', 'track_2467', 'track_2468', 'track_2469', 'track_2470', 'track_2471', 'track_2472', 'track_2473', 'track_2474', 'track_2475', 'track_2476', 'track_2477', 'track_2478', 'track_2479', 'track_2480', 'track_2481', 'track_2482', 'track_2483', 'track_2484', 'track_2485', 'track_2486', 'track_2487', 'track_2488', 'track_2489', 'track_2490', 'track_2491', 'track_2492', 'track_2493', 'track_2494', 'track_2495', 'track_2496', 'track_2497', 'track_2498', 'track_2499', 'track_2500', 'track_2501', 'track_2502', 'track_2503', 'track_2504', 'track_2505', 'track_2506', 'track_2507', 'track_2508', 'track_2509', 'track_2510', 'track_2511', 'track_2512', 'track_2513', 'track_2514', 'track_2515', 'track_2516', 'track_2517', 'track_2518', 'track_2519', 'track_2520', 'track_2521', 'track_2522', 'track_2523', 'track_2524', 'track_2525', 'track_2526', 'track_2527', 'track_2528', 'track_2529', 'track_2530', 'track_2531', 'track_2532', 'track_2533', 'track_2534', 'track_2535', 'track_2536', 'track_2537', 'track_2538', 'track_2539', 'track_2540', 'track_2541', 'track_2542', 'track_2543', 'track_2544', 'track_2545', 'track_2546', 'track_2547', 'track_2548', 'track_2549', 'track_2550', 'track_2551', 'track_2552', 'track_2553', 'track_2554', 'track_2555', 'track_2556', 'track_2557', 'track_2558', 'track_2559', 'track_2560', 'track_2561', 'track_2562', 'track_2563', 'track_2564', 'track_2565', 'track_2566', 'track_2567', 'track_2568', 'track_2569', 'track_2570', 'track_2571', 'track_2572', 'track_2573', 'track_2574', 'track_2575', 'track_2576', 'track_2577', 'track_2578', 'track_2579', 'track_2580', 'track_2581', 'track_2582', 'track_2583', 'track_2584', 'track_2585', 'track_2586', 'track_2587', 'track_2588', 'track_2589', 'track_2590', 'track_2591', 'track_2592', 'track_2593', 'track_2594', 'track_2595', 'track_2596', 'track_2597', 'track_2598', 'track_2599', 'track_2600', 'track_2601', 'track_2602', 'track_2603', 'track_2604', 'track_2605', 'track_2606', 'track_2607', 'track_2608', 'track_2609', 'track_2610', 'track_2611', 'track_2612', 'track_2613', 'track_2614', 'track_2615', 'track_2616', 'track_2617', 'track_2618', 'track_2619', 'track_2620', 'track_2621', 'track_2622', 'track_2623', 'track_2624', 'track_2625', 'track_2626', 'track_2627', 'track_2628', 'track_2629', 'track_2630', 'track_2631', 'track_2632', 'track_2633', 'track_2634', 'track_2635', 'track_2636', 'track_2637', 'track_2638', 'track_2639', 'track_2640', 'track_2641', 'track_2642', 'track_2643', 'track_2644', 'track_2645', 'track_2646', 'track_2647', 'track_2648', 'track_2649', 'track_2650', 'track_2651', 'track_2652', 'track_2653', 'track_2654', 'track_2655', 'track_2656', 'track_2657', 'track_2658', 'track_2659', 'track_2660', 'track_2661', 'track_2662', 'track_2663', 'track_2664', 'track_2665', 'track_2666', 'track_2667', 'track_2668', 'track_2669', 'track_2670', 'track_2671', 'track_2672', 'track_2673', 'track_2674', 'track_2675', 'track_2676', 'track_2677', 'track_2678', 'track_2679', 'track_2680', 'track_2681', 'track_2682', 'track_2683', 'track_2684', 'track_2685', 'track_2686', 'track_2687', 'track_2688', 'track_2689', 'track_2690', 'track_2691', 'track_2692', 'track_2693', 'track_2694', 'track_2695', 'track_2696', 'track_2697', 'track_2698', 'track_2699', 'track_2700', 'track_2701', 'track_2702', 'track_2703', 'track_2704', 'track_2705', 'track_2706', 'track_2707', 'track_2708', 'track_2709', 'track_2710', 'track_2711', 'track_2712', 'track_2713', 'track_2714', 'track_2715', 'track_2716', 'track_2717', 'track_2718', 'track_2719', 'track_2720', 'track_2721', 'track_2722', 'track_2723', 'track_2724', 'track_2725', 'track_2726', 'track_2727', 'track_2728', 'track_2729', 'track_2730', 'track_2731', 'track_2732', 'track_2733', 'track_2734', 'track_2735', 'track_2736', 'track_2737', 'track_2738', 'track_2739', 'track_2740', 'track_2741', 'track_2742', 'track_2743', 'track_2744', 'track_2745', 'track_2746', 'track_2747', 'track_2748', 'track_2749', 'track_2750', 'track_2751', 'track_2752', 'track_2753', 'track_2754', 'track_2755', 'track_2756', 'track_2757', 'track_2758', 'track_2759', 'track_2760', 'track_2761', 'track_2762', 'track_2763', 'track_2764', 'track_2765', 'track_2766', 'track_2767', 'track_2768', 'track_2769', 'track_2770', 'track_2771', 'track_2772', 'track_2773', 'track_2774', 'track_2775', 'track_2776', 'track_2777', 'track_2778', 'track_2779', 'track_2780', 'track_2781', 'track_2782', 'track_2783', 'track_2784', 'track_2785', 'track_2786', 'track_2787', 'track_2788', 'track_2789', 'track_2790', 'track_2791', 'track_2792', 'track_2793', 'track_2794', 'track_2795', 'track_2796', 'track_2797', 'track_2798', 'track_2799', 'track_2800', 'track_2801', 'track_2802', 'track_2803', 'track_2804', 'track_2805', 'track_2806', 'track_2807', 'track_2808', 'track_2809', 'track_2810', 'track_2811', 'track_2812', 'track_2813', 'track_2814', 'track_2815', 'track_2816', 'track_2817', 'track_2818', 'track_2819', 'track_2820', 'track_2821', 'track_2822', 'track_2823', 'track_2824', 'track_2825', 'track_2826', 'track_2827', 'track_2828', 'track_2829', 'track_2830', 'track_2831', 'track_2832', 'track_2833', 'track_2834', 'track_2835', 'track_2836', 'track_2837', 'track_2838', 'track_2839', 'track_2840', 'track_2841', 'track_2842', 'track_2843', 'track_2844', 'track_2845', 'track_2846', 'track_2847', 'track_2848', 'track_2849', 'track_2850', 'track_2851', 'track_2852', 'track_2853', 'track_2854', 'track_2855', 'track_2856', 'track_2857', 'track_2858', 'track_2859', 'track_2860', 'track_2861', 'track_2862', 'track_2863', 'track_2864', 'track_2865']\n",
      "track_occupancy: bool array of shape (89987, 2866)\n",
      "tracks: float64 array of shape (89987, 14, 2, 2866)\n"
     ]
    }
   ],
   "source": [
    "import numpy as np\n",
    "import pandas as pd\n",
    "import h5py\n",
    "\n",
    "h5_filepath = '/home/cat/Downloads/video.mp4.analysis(1).h5'\n",
    "\n",
    "# Open the HDF5 file using h5py.\n",
    "with h5py.File(h5_filepath, \"r\") as f:\n",
    "\n",
    "  # Print a list of the keys available.\n",
    "  print(\"Keys in the HDF5 file:\", list(f.keys()))\n",
    "\n",
    "  # Load all the datasets into a dictionary.\n",
    "  data = {k: v[:] for k, v in f.items()}\n",
    "\n",
    "  # Here we're just converting string arrays into regular Python strings.\n",
    "  data[\"node_names\"] = [s.decode() for s in data[\"node_names\"].tolist()]\n",
    "  data[\"track_names\"] = [s.decode() for s in data[\"track_names\"].tolist()]\n",
    "\n",
    "  # And we just flip the order of the tracks axes for convenience.\n",
    "  data[\"tracks\"] = np.transpose(data[\"tracks\"])\n",
    "\n",
    "  # And finally convert the data type of the track occupancy array to boolean.\n",
    "  # We'll see what this array is used for further down.\n",
    "  data[\"track_occupancy\"] = data[\"track_occupancy\"].astype(bool)\n",
    "\n",
    "\n",
    "# Describe the values in the data dictionary we just created.\n",
    "for key, value in data.items():\n",
    "  if isinstance(value, np.ndarray):\n",
    "    print(f\"{key}: {value.dtype} array of shape {value.shape}\")\n",
    "  else:\n",
    "    print(f\"{key}: {value}\")"
   ]
  },
  {
   "cell_type": "markdown",
   "metadata": {
    "id": "IrAwp2dgIp_9"
   },
   "source": [
    "The `data[\"tracks\"]` array has the raw tracking coordinates, with axes corresponding to `(frames, nodes, xy, tracks)`.\n",
    "\n",
    "In this case we don't have data for every frame since we just tracked a small clip; this is indicated by the `data[\"track_occupancy\"]` array.\n",
    "\n",
    "First, let's find all the frames that have at least one animal tracked."
   ]
  },
  {
   "cell_type": "code",
   "execution_count": 3,
   "metadata": {
    "colab": {
     "base_uri": "https://localhost:8080/",
     "height": 35
    },
    "id": "VdkVsRb1Fsey",
    "outputId": "2140ab89-1e26-47ea-9102-fea5ddaed93a"
   },
   "outputs": [
    {
     "data": {
      "text/plain": [
       "array([    0,     1,     2, ..., 89984, 89985, 89986])"
      ]
     },
     "execution_count": 3,
     "metadata": {},
     "output_type": "execute_result"
    }
   ],
   "source": [
    "valid_frame_idxs = np.argwhere(data[\"track_occupancy\"].any(axis=1)).flatten()\n",
    "valid_frame_idxs"
   ]
  },
  {
   "cell_type": "markdown",
   "metadata": {
    "id": "R-TFMjRZKXVi"
   },
   "source": [
    "Great, so now let's build up a `tracks` table where each row contains the detected body part coordinates for a single animal in a single frame.\n"
   ]
  },
  {
   "cell_type": "code",
   "execution_count": 4,
   "metadata": {
    "colab": {
     "base_uri": "https://localhost:8080/",
     "height": 222
    },
    "id": "FTO28tjRHJxr",
    "outputId": "bddb8775-b63c-4c38-b167-49020b5797a0"
   },
   "outputs": [
    {
     "name": "stderr",
     "output_type": "stream",
     "text": [
      "100%|██████████| 89983/89983 [12:26<00:00, 120.53it/s]\n"
     ]
    },
    {
     "data": {
      "text/html": [
       "<div>\n",
       "<style scoped>\n",
       "    .dataframe tbody tr th:only-of-type {\n",
       "        vertical-align: middle;\n",
       "    }\n",
       "\n",
       "    .dataframe tbody tr th {\n",
       "        vertical-align: top;\n",
       "    }\n",
       "\n",
       "    .dataframe thead th {\n",
       "        text-align: right;\n",
       "    }\n",
       "</style>\n",
       "<table border=\"1\" class=\"dataframe\">\n",
       "  <thead>\n",
       "    <tr style=\"text-align: right;\">\n",
       "      <th></th>\n",
       "      <th>track</th>\n",
       "      <th>frame_idx</th>\n",
       "      <th>nose.x</th>\n",
       "      <th>nose.y</th>\n",
       "      <th>lefteye.x</th>\n",
       "      <th>lefteye.y</th>\n",
       "      <th>righteye.x</th>\n",
       "      <th>righteye.y</th>\n",
       "      <th>leftear.x</th>\n",
       "      <th>leftear.y</th>\n",
       "      <th>...</th>\n",
       "      <th>spine5.x</th>\n",
       "      <th>spine5.y</th>\n",
       "      <th>tail1.x</th>\n",
       "      <th>tail1.y</th>\n",
       "      <th>tail2.x</th>\n",
       "      <th>tail2.y</th>\n",
       "      <th>tail3.x</th>\n",
       "      <th>tail3.y</th>\n",
       "      <th>tail4.x</th>\n",
       "      <th>tail4.y</th>\n",
       "    </tr>\n",
       "  </thead>\n",
       "  <tbody>\n",
       "    <tr>\n",
       "      <th>0</th>\n",
       "      <td>track_0</td>\n",
       "      <td>0</td>\n",
       "      <td>NaN</td>\n",
       "      <td>NaN</td>\n",
       "      <td>NaN</td>\n",
       "      <td>NaN</td>\n",
       "      <td>NaN</td>\n",
       "      <td>NaN</td>\n",
       "      <td>NaN</td>\n",
       "      <td>NaN</td>\n",
       "      <td>...</td>\n",
       "      <td>NaN</td>\n",
       "      <td>NaN</td>\n",
       "      <td>NaN</td>\n",
       "      <td>NaN</td>\n",
       "      <td>NaN</td>\n",
       "      <td>NaN</td>\n",
       "      <td>NaN</td>\n",
       "      <td>NaN</td>\n",
       "      <td>NaN</td>\n",
       "      <td>NaN</td>\n",
       "    </tr>\n",
       "    <tr>\n",
       "      <th>1</th>\n",
       "      <td>track_1</td>\n",
       "      <td>0</td>\n",
       "      <td>711.924072</td>\n",
       "      <td>136.060577</td>\n",
       "      <td>723.923462</td>\n",
       "      <td>147.806061</td>\n",
       "      <td>NaN</td>\n",
       "      <td>NaN</td>\n",
       "      <td>746.003906</td>\n",
       "      <td>151.948685</td>\n",
       "      <td>...</td>\n",
       "      <td>824.047913</td>\n",
       "      <td>140.117554</td>\n",
       "      <td>835.975220</td>\n",
       "      <td>130.200958</td>\n",
       "      <td>NaN</td>\n",
       "      <td>NaN</td>\n",
       "      <td>NaN</td>\n",
       "      <td>NaN</td>\n",
       "      <td>NaN</td>\n",
       "      <td>NaN</td>\n",
       "    </tr>\n",
       "    <tr>\n",
       "      <th>2</th>\n",
       "      <td>track_2</td>\n",
       "      <td>0</td>\n",
       "      <td>NaN</td>\n",
       "      <td>NaN</td>\n",
       "      <td>NaN</td>\n",
       "      <td>NaN</td>\n",
       "      <td>NaN</td>\n",
       "      <td>NaN</td>\n",
       "      <td>240.077682</td>\n",
       "      <td>706.718140</td>\n",
       "      <td>...</td>\n",
       "      <td>312.172180</td>\n",
       "      <td>590.769043</td>\n",
       "      <td>NaN</td>\n",
       "      <td>NaN</td>\n",
       "      <td>NaN</td>\n",
       "      <td>NaN</td>\n",
       "      <td>386.060455</td>\n",
       "      <td>584.661865</td>\n",
       "      <td>NaN</td>\n",
       "      <td>NaN</td>\n",
       "    </tr>\n",
       "    <tr>\n",
       "      <th>3</th>\n",
       "      <td>track_3</td>\n",
       "      <td>0</td>\n",
       "      <td>NaN</td>\n",
       "      <td>NaN</td>\n",
       "      <td>NaN</td>\n",
       "      <td>NaN</td>\n",
       "      <td>849.395935</td>\n",
       "      <td>755.005737</td>\n",
       "      <td>875.126892</td>\n",
       "      <td>724.916504</td>\n",
       "      <td>...</td>\n",
       "      <td>827.150269</td>\n",
       "      <td>582.877075</td>\n",
       "      <td>821.031311</td>\n",
       "      <td>546.928589</td>\n",
       "      <td>815.328552</td>\n",
       "      <td>506.858124</td>\n",
       "      <td>NaN</td>\n",
       "      <td>NaN</td>\n",
       "      <td>NaN</td>\n",
       "      <td>NaN</td>\n",
       "    </tr>\n",
       "    <tr>\n",
       "      <th>4</th>\n",
       "      <td>track_0</td>\n",
       "      <td>1</td>\n",
       "      <td>NaN</td>\n",
       "      <td>NaN</td>\n",
       "      <td>NaN</td>\n",
       "      <td>NaN</td>\n",
       "      <td>NaN</td>\n",
       "      <td>NaN</td>\n",
       "      <td>NaN</td>\n",
       "      <td>NaN</td>\n",
       "      <td>...</td>\n",
       "      <td>920.653198</td>\n",
       "      <td>171.596039</td>\n",
       "      <td>NaN</td>\n",
       "      <td>NaN</td>\n",
       "      <td>NaN</td>\n",
       "      <td>NaN</td>\n",
       "      <td>NaN</td>\n",
       "      <td>NaN</td>\n",
       "      <td>NaN</td>\n",
       "      <td>NaN</td>\n",
       "    </tr>\n",
       "  </tbody>\n",
       "</table>\n",
       "<p>5 rows × 30 columns</p>\n",
       "</div>"
      ],
      "text/plain": [
       "     track  frame_idx      nose.x      nose.y   lefteye.x   lefteye.y  \\\n",
       "0  track_0          0         NaN         NaN         NaN         NaN   \n",
       "1  track_1          0  711.924072  136.060577  723.923462  147.806061   \n",
       "2  track_2          0         NaN         NaN         NaN         NaN   \n",
       "3  track_3          0         NaN         NaN         NaN         NaN   \n",
       "4  track_0          1         NaN         NaN         NaN         NaN   \n",
       "\n",
       "   righteye.x  righteye.y   leftear.x   leftear.y  ...    spine5.x  \\\n",
       "0         NaN         NaN         NaN         NaN  ...         NaN   \n",
       "1         NaN         NaN  746.003906  151.948685  ...  824.047913   \n",
       "2         NaN         NaN  240.077682  706.718140  ...  312.172180   \n",
       "3  849.395935  755.005737  875.126892  724.916504  ...  827.150269   \n",
       "4         NaN         NaN         NaN         NaN  ...  920.653198   \n",
       "\n",
       "     spine5.y     tail1.x     tail1.y     tail2.x     tail2.y     tail3.x  \\\n",
       "0         NaN         NaN         NaN         NaN         NaN         NaN   \n",
       "1  140.117554  835.975220  130.200958         NaN         NaN         NaN   \n",
       "2  590.769043         NaN         NaN         NaN         NaN  386.060455   \n",
       "3  582.877075  821.031311  546.928589  815.328552  506.858124         NaN   \n",
       "4  171.596039         NaN         NaN         NaN         NaN         NaN   \n",
       "\n",
       "      tail3.y  tail4.x  tail4.y  \n",
       "0         NaN      NaN      NaN  \n",
       "1         NaN      NaN      NaN  \n",
       "2  584.661865      NaN      NaN  \n",
       "3         NaN      NaN      NaN  \n",
       "4         NaN      NaN      NaN  \n",
       "\n",
       "[5 rows x 30 columns]"
      ]
     },
     "execution_count": 4,
     "metadata": {},
     "output_type": "execute_result"
    }
   ],
   "source": [
    "from tqdm import trange, tqdm\n",
    "tracks = []\n",
    "for frame_idx in tqdm(valid_frame_idxs):\n",
    "  # Get the tracking data for the current frame.\n",
    "  frame_tracks = data[\"tracks\"][frame_idx]\n",
    "\n",
    "  # Loop over the animals in the current frame.\n",
    "  for i in range(frame_tracks.shape[-1]):\n",
    "    pts = frame_tracks[..., i]\n",
    "    \n",
    "    if np.isnan(pts).all():\n",
    "      # Skip this animal if all of its points are missing (i.e., it wasn't\n",
    "      # detected in the current frame).\n",
    "      continue\n",
    "    \n",
    "    # Let's initialize our row with some metadata.\n",
    "    detection = {\"track\": data[\"track_names\"][i], \"frame_idx\": frame_idx}\n",
    "\n",
    "    # Now let's fill in the coordinates for each body part.\n",
    "    for node_name, (x, y) in zip(data[\"node_names\"], pts):\n",
    "      detection[f\"{node_name}.x\"] = x\n",
    "      detection[f\"{node_name}.y\"] = y\n",
    "\n",
    "    # Add the row to the list and move on to the next detection.\n",
    "    tracks.append(detection)\n",
    "\n",
    "# Once we're done, we can convert this list of rows into a table using Pandas.\n",
    "tracks = pd.DataFrame(tracks)\n",
    "\n",
    "tracks.head()"
   ]
  },
  {
   "cell_type": "markdown",
   "metadata": {
    "id": "Pi7fRj-KNxku"
   },
   "source": [
    "Finally, we can save the table we just generated into a CSV file and download it for further analysis."
   ]
  },
  {
   "cell_type": "code",
   "execution_count": 5,
   "metadata": {
    "colab": {
     "base_uri": "https://localhost:8080/",
     "height": 17
    },
    "id": "IS0bhgkWNsJk",
    "outputId": "a6023e8c-7e33-4570-91ba-4a89647634d9"
   },
   "outputs": [],
   "source": [
    "tracks.to_csv(h5_filepath[:-4]+'.csv', index=False)\n",
    "\n",
    "#files.download(\"tracks.csv\")"
   ]
  },
  {
   "cell_type": "code",
   "execution_count": 39,
   "metadata": {},
   "outputs": [],
   "source": [
    "import csv\n",
    "\n",
    "traces =[]\n",
    "with open('/home/cat/Downloads/video.mp4.analysis(1.csv', mode='r') as infile:\n",
    "    reader = csv.reader(infile)\n",
    "    with open('coors_new.csv', mode='w') as outfile:\n",
    "        writer = csv.writer(outfile)\n",
    "        for row in reader:\n",
    "            traces.append(row)\n",
    "        \n",
    "#print (len(mydict))"
   ]
  },
  {
   "cell_type": "code",
   "execution_count": 41,
   "metadata": {},
   "outputs": [
    {
     "name": "stdout",
     "output_type": "stream",
     "text": [
      "['track_0', '0', '', '', '', '', '', '', '', '', '', '', '908.9131469726562', '164.5895538330078', '900.7461547851562', '148.29443359375', '880.7421264648438', '136.3643798828125', '852.9115600585938', '128.3528289794922', '', '', '', '', '', '', '', '', '', '']\n",
      "89983\n",
      "289787\n"
     ]
    }
   ],
   "source": [
    "traces.pop(0)\n",
    "\n",
    "print (traces[0])\n",
    "print (len(valid_frame_idxs))\n",
    "print (len(traces))"
   ]
  },
  {
   "cell_type": "code",
   "execution_count": 66,
   "metadata": {},
   "outputs": [],
   "source": [
    "# # CONVERT DATA TO FRAME WISE TRACKS\n",
    "# from tqdm import trange\n",
    "\n",
    "# n_frames = len(traces)\n",
    "# n_features = 11\n",
    "# max_tracks_simultaneous = 15 # Maximum number of tracklets observed in 1 frame\n",
    "# tracesx=np.zeros((n_frames,max_tracks_simultaneous,n_features,2),'float32')\n",
    "# tracesy=np.zeros((n_frames,max_tracks_simultaneous,n_features,2),'float32')\n",
    "# traces_id=np.zeros((n_frames,max_tracks_simultaneous),'int32')+1E5   # Holds the ID of the animal in that track\n",
    "# print (\"tracesx: \", tracesx.shape)\n",
    "\n",
    "# # LOAD EACH FRAME WITH INFO:\n",
    "# for k in trange(len(traces)):\n",
    "# #for k in trange(1000):\n",
    "#     frame_id = int(traces[k][1])\n",
    "#     track_id = int(traces[k][0].replace('track_',''))\n",
    "#     locs1 = traces[k][2:]  # LOAD x,y locations\n",
    "#     #print (locs1)\n",
    "#     # \n",
    "#     track_ctr = np.min(traces_id[k])\n",
    "#     if track_ctr==1E5:\n",
    "#         track_ctr=0\n",
    "#     else:\n",
    "#         track_ctr+=1\n",
    "#     #print (track_ctr)\n",
    "#     traces_id[k][track_ctr]=frame_id\n",
    "    \n",
    "#     for p in range(0,len(locs1),2):\n",
    "#         #print (k, track_ctr, p)\n",
    "#         if locs1[p] != '':\n",
    "#             #print (float(locs1[p]), locs1[p+1])\n",
    "#             #print (tracesx[k,track_ctr])\n",
    "#             tracesx[k,track_ctr,p//2]= float(locs1[p])\n",
    "#             tracesy[k,track_ctr,p//2]= float(locs1[p+1])\n",
    "#             #print (tracesx[k,track_ctr])\n",
    "#             #print ('')\n",
    "#         else:\n",
    "#             tracesx[k,track_ctr,p//2]= np.nan\n",
    "#             tracesy[k,track_ctr,p//2]= np.nan\n",
    "            \n",
    "                    \n",
    "#     #print (tracesx[k,track_ctr])"
   ]
  },
  {
   "cell_type": "code",
   "execution_count": 26,
   "metadata": {},
   "outputs": [
    {
     "data": {
      "image/png": "[encoded data removed]",
      "text/plain": [
       "<Figure size 432x288 with 1 Axes>"
      ]
     },
     "metadata": {
      "needs_background": "light"
     },
     "output_type": "display_data"
    }
   ],
   "source": [
    "import matplotlib.pyplot as plt\n",
    "temp = tracesx[:,0,4].sum(1)\n",
    "plt.plot(temp)\n",
    "plt.show()\n",
    "\n"
   ]
  },
  {
   "cell_type": "code",
   "execution_count": 51,
   "metadata": {},
   "outputs": [
    {
     "name": "stderr",
     "output_type": "stream",
     "text": [
      "  0%|          | 8/3000 [00:00<00:39, 74.92it/s]"
     ]
    },
    {
     "name": "stdout",
     "output_type": "stream",
     "text": [
      "START:  0    END:  3000\n"
     ]
    },
    {
     "name": "stderr",
     "output_type": "stream",
     "text": [
      "100%|██████████| 3000/3000 [00:40<00:00, 74.05it/s]\n"
     ]
    }
   ],
   "source": [
    "#########################################################################\n",
    "######################### MAKE VIDEOS ###################################\n",
    "#########################################################################\n",
    "import cv2\n",
    "import matplotlib\n",
    "\n",
    "#          pup1     pup2    female  male\n",
    "colors_4= ['orange','green', 'blue', 'red', 'cyan','white','yellow','pink']\n",
    "\n",
    "video_name = '/media/cat/4TBSSD/dan/march_2/sleap_talmo/2020-3-9_12_14_22_815059_compressed.avi'\n",
    "original_vid = cv2.VideoCapture(video_name)\n",
    "\n",
    "\n",
    "# SELECT VIDEO SIZE\n",
    "size_vid = np.array([1280,1024])\n",
    "scale = 1\n",
    "dot_size = 8//scale\n",
    "\n",
    "# SET START AND END TIMES\n",
    "start = 0\n",
    "end = 299+1\n",
    "end = len(valid_frame_idxs)\n",
    "end = 3000\n",
    "print (\"START: \", start, \"   END: \", end)\n",
    "\n",
    "# SELECT VIDEOS OUT\n",
    "#out_dir = '/media/cat/4TBSSD/dan/march_2/madeline_dlc/2020-3-9_08_18_49_128168/'\n",
    "fname_out = video_name[:-4]+\"_corrected_\"+str(start)+\"_\"+str(end)+\".mp4\"\n",
    "fourcc = cv2.VideoWriter_fourcc('M','P','E','G')\n",
    "video_out = cv2.VideoWriter(fname_out,fourcc, 25, (size_vid[0]//scale,size_vid[1]//scale), True)\n",
    "\n",
    "\n",
    "original_vid.set(cv2.CAP_PROP_POS_FRAMES, start)\n",
    "\n",
    "font = cv2.FONT_HERSHEY_PLAIN\n",
    "\n",
    "ctr_sleap = 0\n",
    "for n in trange(start,end, 1):\n",
    "    ret, frame = original_vid.read()\n",
    "    #print (n, frame.shape)\n",
    "    cv2.putText(frame, str(n), (50, 100), font, 5, (255, 255, 0), 5)\n",
    "    frame = frame[::scale, ::scale]\n",
    "    \n",
    "    # LOAD ALL LAbELS AT THIS TRACES\n",
    "    while True:\n",
    "        temp = traces[ctr_sleap]\n",
    "        #print (temp)\n",
    "        frame_id = int(temp[1])\n",
    "        track_id = int(temp[0].replace('track_',''))\n",
    "        \n",
    "        # TRACK TEXT\n",
    "        track_text = True\n",
    "        #print (locs1)\n",
    "        \n",
    "        # EXIT WHEN HITTING NEXT FRAME INFO\n",
    "        if frame_id>n:\n",
    "            break\n",
    "        \n",
    "        # \n",
    "        locs1 = np.array(temp[2:])  # LOAD x,y locations\n",
    "\n",
    "        y_array = locs1[::2]\n",
    "        #print (x_array)\n",
    "        x_array = locs1[1::2]\n",
    "        \n",
    "        for k in range(len(x_array)):\n",
    "            x = x_array[k]\n",
    "            y = y_array[k]\n",
    "            \n",
    "            if x=='' or y=='':\n",
    "                continue\n",
    "            else:\n",
    "                x=int(float(x))//scale\n",
    "                y=int(float(y))//scale\n",
    "\n",
    "                if track_text:\n",
    "                    cv2.putText(frame, str(track_id), (y,x), font, 5, (255, 255, 0), 5)\n",
    "                    track_text=False\n",
    "                \n",
    "                frame[x-dot_size:x+dot_size,y-dot_size:y+dot_size]= (np.float32(\n",
    "                    matplotlib.colors.to_rgb(colors_4[track_id%8]))*255.).astype('uint8')\n",
    "                #print (colors_4[k])\n",
    "                #frame[y-dot_size:y+dot_size,x-dot_size:x+dot_size]= (np.float32(\n",
    "                #    matplotlib.colors.to_rgb(colors_4[z//14]))*255.).astype('uint8')\n",
    "                \n",
    "        ctr_sleap+=1\n",
    "\n",
    "    #print (\"\")\n",
    "    video_out.write(frame)\n",
    "\n",
    "    #print (\"\")\n",
    "\n",
    "video_out.release()\n",
    "original_vid.release()\n",
    "#cv2.destroyAllWindows()"
   ]
  },
  {
   "cell_type": "code",
   "execution_count": 70,
   "metadata": {},
   "outputs": [
    {
     "name": "stdout",
     "output_type": "stream",
     "text": [
      "START:  225    END:  235\n"
     ]
    },
    {
     "name": "stderr",
     "output_type": "stream",
     "text": [
      "100%|██████████| 10/10 [00:00<00:00, 40.35it/s]\n"
     ]
    }
   ],
   "source": [
    "import cv2\n",
    "import matplotlib\n",
    "matplotlib.use('Agg')\n",
    "\n",
    "\n",
    "#          pup1     pup2    female  male\n",
    "colors_4= ['orange','green', 'blue', 'red', 'cyan','white','yellow','pink']\n",
    "\n",
    "video_name = '/media/cat/4TBSSD/dan/march_2/sleap_talmo/2020-3-9_12_14_22_815059_compressed.avi'\n",
    "original_vid = cv2.VideoCapture(video_name)\n",
    "\n",
    "\n",
    "# SELECT VIDEO SIZE\n",
    "size_vid = np.array([1280,1024])\n",
    "scale = 1\n",
    "dot_size = 8//scale\n",
    "\n",
    "# SET START AND END TIMES\n",
    "start = 0\n",
    "end = 299+1\n",
    "end = len(valid_frame_idxs)\n",
    "end = 3000\n",
    "start=225\n",
    "end=start+10\n",
    "\n",
    "print (\"START: \", start, \"   END: \", end)\n",
    "\n",
    "# SELECT VIDEOS OUT\n",
    "#out_dir = '/media/cat/4TBSSD/dan/march_2/madeline_dlc/2020-3-9_08_18_49_128168/'\n",
    "fname_out = video_name[:-4]+\"_corrected_\"+str(start)+\"_\"+str(end)+\".mp4\"\n",
    "fourcc = cv2.VideoWriter_fourcc('M','P','E','G')\n",
    "video_out = cv2.VideoWriter(fname_out,fourcc, 25, (size_vid[0]//scale,size_vid[1]//scale), True)\n",
    "\n",
    "\n",
    "original_vid.set(cv2.CAP_PROP_POS_FRAMES, start)\n",
    "\n",
    "font = cv2.FONT_HERSHEY_PLAIN\n",
    "\n",
    "ctr_sleap = 0\n",
    "ctr_show = 0\n",
    "\n",
    "fig=plt.figure(figsize=(20,20))\n",
    "\n",
    "for n in trange(start,end, 1):\n",
    "    ret, frame = original_vid.read()\n",
    "    #print (n, frame.shape)\n",
    "    cv2.putText(frame, str(n), (50, 100), font, 5, (255, 255, 0), 5)\n",
    "    frame = frame[::scale, ::scale]\n",
    "    \n",
    "    # LOAD ALL LAbELS AT THIS TRACES\n",
    "    while True:\n",
    "        temp = traces[ctr_sleap]\n",
    "        #print (temp)\n",
    "        frame_id = int(temp[1])\n",
    "        track_id = int(temp[0].replace('track_',''))\n",
    "        \n",
    "#         if frame_id !=n:\n",
    "#             ctr_sleap+=1\n",
    "\n",
    "#             continue\n",
    "        \n",
    "        # TRACK TEXT\n",
    "        track_text = True\n",
    "        #print (locs1)\n",
    "        \n",
    "        # EXIT WHEN HITTING NEXT FRAME INFO\n",
    "        if frame_id>n:\n",
    "            break\n",
    "        \n",
    "        if frame_id<n:\n",
    "            ctr_sleap+=1\n",
    "            continue\n",
    "        \n",
    "        # \n",
    "        locs1 = np.array(temp[2:])  # LOAD x,y locations\n",
    "\n",
    "        y_array = locs1[::2]\n",
    "        #print (x_array)\n",
    "        x_array = locs1[1::2]\n",
    "        \n",
    "        for k in range(len(x_array)):\n",
    "            x = x_array[k]\n",
    "            y = y_array[k]\n",
    "            \n",
    "            if x=='' or y=='':\n",
    "                continue\n",
    "            else:\n",
    "                x=int(float(x))//scale\n",
    "                y=int(float(y))//scale\n",
    "\n",
    "                if track_text:\n",
    "                    cv2.putText(frame, str(track_id), (y,x), font, 5, (255, 255, 0), 5)\n",
    "                    track_text=False\n",
    "                \n",
    "                frame[x-dot_size:x+dot_size,y-dot_size:y+dot_size]= (np.float32(\n",
    "                    matplotlib.colors.to_rgb(colors_4[track_id%8]))*255.).astype('uint8')\n",
    "\n",
    "        \n",
    "        ctr_sleap+=1\n",
    "\n",
    "    ax=plt.subplot(2,5,ctr_show+1)\n",
    "    plt.imshow(frame)\n",
    "    plt.title(str(n))\n",
    "    \n",
    "    ctr_show+=1\n",
    "fig.savefig('/home/cat/fig2.png',dpi=300)   "
   ]
  },
  {
   "cell_type": "code",
   "execution_count": null,
   "metadata": {},
   "outputs": [],
   "source": [
    "\n",
    "\n",
    "\n"
   ]
  }
 ],
 "metadata": {
  "colab": {
   "collapsed_sections": [],
   "name": "Converting SLEAP Analysis HDF5 to CSV.ipynb",
   "provenance": []
  },
  "kernelspec": {
   "display_name": "Python 3",
   "language": "python",
   "name": "python3"
  },
  "language_info": {
   "codemirror_mode": {
    "name": "ipython",
    "version": 3
   },
   "file_extension": ".py",
   "mimetype": "text/x-python",
   "name": "python",
   "nbconvert_exporter": "python",
   "pygments_lexer": "ipython3",
   "version": "3.8.3"
  }
 },
 "nbformat": 4,
 "nbformat_minor": 1
}
